{
 "cells": [
  {
   "cell_type": "markdown",
   "metadata": {},
   "source": [
    "## Real or Fake?<a id='_Real_or_Fake?'></a>\n",
    "* [Introduction](#_Introduction)\n",
    "  * [Imports](#_Imports)\n",
    "  * [Load The Data](#_Load_The_Data)\n",
    "  * [Visualizing 'true' Headline Data](#_Visualizing_\"true\"_Headline_Data)\n",
    "      * [Word Frequency Analysis](#_Word_Frequency_Analysis)\n",
    "      * [Sentence Length Analysis](#_Sentence_Length_Analysis)\n",
    "      * [Average Word Length Analysis](#_Average_Word_Length_Analysis)\n",
    "  * [Most Common Words In 'true' Headlines](#_Most_Common_Words_In_\"true\"_Headlines)\n",
    "  * [Bigrams and Trigams for 'true' Headlines](#_Bigrams_and_Trigrams_for_\"true\"_Headlines)\n",
    "  * [Visualizing 'fake' Headline Data](#_Visualizing_\"fake\"_Headline_Data)\n",
    "      * [Word Frequency Analysis](#_Word_Frequency_Analysis)\n",
    "      * [Sentence Length Analysis](#_Sentence_Length_Analysis)\n",
    "      * [Average Word Length Analysis](#_Average_Word_Length_Analysis)\n",
    "  * [Most Common Words In 'fake' Headlines](#_Most_Common_Words_In_\"fake\"_Headlines)\n",
    "  * [Bigrams and Trigams for 'fake' Headlines](#_Bigrams_and_Trigrams_for_\"fake\"_Headlines)\n",
    "  * [Feature Engineering for Lexical Diversity](#_Feature_Engineering_for_Lexical_Diversity)\n",
    "  * [Lexical Diversity for All News](#_Lexical_Diversity_for_All_News)\n",
    "      * [Lexical Diversity Within Text](#_Lexical_Diversity_Within_Text)\n",
    "      * [Lexical Diversity Within Titles](#_Lexical_Diversity_Within_Titles)\n",
    "  * [Summary](#_Summary)\n",
    "  "
   ]
  },
  {
   "cell_type": "markdown",
   "metadata": {},
   "source": [
    "## Introduction<a id='_Introduction'></a>"
   ]
  },
  {
   "cell_type": "markdown",
   "metadata": {},
   "source": [
    "The advent of the internet is arguably the most important event in human history. One of the dangers present when surfing the web is consuming false information. Any internet user would benefit from understanding what fake news looks like. In this notebook, we will be focusing on identifying the distinguishing features in real news and fake news.\n",
    "\n",
    "Let's start by asking a few questions of the dataset. How similar are the news headlines? How different are they from each other? Are there words or phrases they have in common? What are the similarities and differences in lexical diversity between real and fake news? What can we conclude about what fake news looks like?"
   ]
  },
  {
   "cell_type": "markdown",
   "metadata": {},
   "source": [
    "## Imports<a id='_Imports'></a>"
   ]
  },
  {
   "cell_type": "code",
   "execution_count": 1,
   "metadata": {},
   "outputs": [],
   "source": [
    "import os\n",
    "import pandas as pd\n",
    "import matplotlib.pyplot as plt\n",
    "import seaborn as sns\n",
    "import numpy as np\n",
    "from collections import Counter\n",
    "from sklearn.decomposition import PCA\n",
    "from sklearn.preprocessing import scale\n",
    "pd.set_option('display.max_columns', 100)"
   ]
  },
  {
   "cell_type": "code",
   "execution_count": 2,
   "metadata": {},
   "outputs": [
    {
     "data": {
      "text/plain": [
       "'C:\\\\Users\\\\daenj\\\\OneDrive\\\\Desktop\\\\Datasets\\\\RealOrFakeNews\\\\archive'"
      ]
     },
     "execution_count": 2,
     "metadata": {},
     "output_type": "execute_result"
    }
   ],
   "source": [
    "os.chdir(r'C:\\Users\\daenj\\OneDrive\\Desktop\\Datasets\\RealOrFakeNews\\archive')\n",
    "os.getcwd()"
   ]
  },
  {
   "cell_type": "markdown",
   "metadata": {},
   "source": [
    "## Load The Data<a id='_Load_The_Data'></a>"
   ]
  },
  {
   "cell_type": "code",
   "execution_count": 3,
   "metadata": {},
   "outputs": [],
   "source": [
    "fake = pd.read_csv('Fake.csv')\n",
    "true = pd.read_csv('True.csv')"
   ]
  },
  {
   "cell_type": "code",
   "execution_count": 4,
   "metadata": {},
   "outputs": [
    {
     "data": {
      "text/html": [
       "<div>\n",
       "<style scoped>\n",
       "    .dataframe tbody tr th:only-of-type {\n",
       "        vertical-align: middle;\n",
       "    }\n",
       "\n",
       "    .dataframe tbody tr th {\n",
       "        vertical-align: top;\n",
       "    }\n",
       "\n",
       "    .dataframe thead th {\n",
       "        text-align: right;\n",
       "    }\n",
       "</style>\n",
       "<table border=\"1\" class=\"dataframe\">\n",
       "  <thead>\n",
       "    <tr style=\"text-align: right;\">\n",
       "      <th></th>\n",
       "      <th>title</th>\n",
       "      <th>text</th>\n",
       "      <th>subject</th>\n",
       "      <th>date</th>\n",
       "    </tr>\n",
       "  </thead>\n",
       "  <tbody>\n",
       "    <tr>\n",
       "      <th>0</th>\n",
       "      <td>Donald Trump Sends Out Embarrassing New Year’...</td>\n",
       "      <td>Donald Trump just couldn t wish all Americans ...</td>\n",
       "      <td>News</td>\n",
       "      <td>December 31, 2017</td>\n",
       "    </tr>\n",
       "    <tr>\n",
       "      <th>1</th>\n",
       "      <td>Drunk Bragging Trump Staffer Started Russian ...</td>\n",
       "      <td>House Intelligence Committee Chairman Devin Nu...</td>\n",
       "      <td>News</td>\n",
       "      <td>December 31, 2017</td>\n",
       "    </tr>\n",
       "    <tr>\n",
       "      <th>2</th>\n",
       "      <td>Sheriff David Clarke Becomes An Internet Joke...</td>\n",
       "      <td>On Friday, it was revealed that former Milwauk...</td>\n",
       "      <td>News</td>\n",
       "      <td>December 30, 2017</td>\n",
       "    </tr>\n",
       "    <tr>\n",
       "      <th>3</th>\n",
       "      <td>Trump Is So Obsessed He Even Has Obama’s Name...</td>\n",
       "      <td>On Christmas day, Donald Trump announced that ...</td>\n",
       "      <td>News</td>\n",
       "      <td>December 29, 2017</td>\n",
       "    </tr>\n",
       "    <tr>\n",
       "      <th>4</th>\n",
       "      <td>Pope Francis Just Called Out Donald Trump Dur...</td>\n",
       "      <td>Pope Francis used his annual Christmas Day mes...</td>\n",
       "      <td>News</td>\n",
       "      <td>December 25, 2017</td>\n",
       "    </tr>\n",
       "  </tbody>\n",
       "</table>\n",
       "</div>"
      ],
      "text/plain": [
       "                                               title  \\\n",
       "0   Donald Trump Sends Out Embarrassing New Year’...   \n",
       "1   Drunk Bragging Trump Staffer Started Russian ...   \n",
       "2   Sheriff David Clarke Becomes An Internet Joke...   \n",
       "3   Trump Is So Obsessed He Even Has Obama’s Name...   \n",
       "4   Pope Francis Just Called Out Donald Trump Dur...   \n",
       "\n",
       "                                                text subject  \\\n",
       "0  Donald Trump just couldn t wish all Americans ...    News   \n",
       "1  House Intelligence Committee Chairman Devin Nu...    News   \n",
       "2  On Friday, it was revealed that former Milwauk...    News   \n",
       "3  On Christmas day, Donald Trump announced that ...    News   \n",
       "4  Pope Francis used his annual Christmas Day mes...    News   \n",
       "\n",
       "                date  \n",
       "0  December 31, 2017  \n",
       "1  December 31, 2017  \n",
       "2  December 30, 2017  \n",
       "3  December 29, 2017  \n",
       "4  December 25, 2017  "
      ]
     },
     "execution_count": 4,
     "metadata": {},
     "output_type": "execute_result"
    }
   ],
   "source": [
    "fake.head()"
   ]
  },
  {
   "cell_type": "code",
   "execution_count": 5,
   "metadata": {},
   "outputs": [
    {
     "data": {
      "text/html": [
       "<div>\n",
       "<style scoped>\n",
       "    .dataframe tbody tr th:only-of-type {\n",
       "        vertical-align: middle;\n",
       "    }\n",
       "\n",
       "    .dataframe tbody tr th {\n",
       "        vertical-align: top;\n",
       "    }\n",
       "\n",
       "    .dataframe thead th {\n",
       "        text-align: right;\n",
       "    }\n",
       "</style>\n",
       "<table border=\"1\" class=\"dataframe\">\n",
       "  <thead>\n",
       "    <tr style=\"text-align: right;\">\n",
       "      <th></th>\n",
       "      <th>title</th>\n",
       "      <th>text</th>\n",
       "      <th>subject</th>\n",
       "      <th>date</th>\n",
       "    </tr>\n",
       "  </thead>\n",
       "  <tbody>\n",
       "    <tr>\n",
       "      <th>0</th>\n",
       "      <td>As U.S. budget fight looms, Republicans flip t...</td>\n",
       "      <td>WASHINGTON (Reuters) - The head of a conservat...</td>\n",
       "      <td>politicsNews</td>\n",
       "      <td>December 31, 2017</td>\n",
       "    </tr>\n",
       "    <tr>\n",
       "      <th>1</th>\n",
       "      <td>U.S. military to accept transgender recruits o...</td>\n",
       "      <td>WASHINGTON (Reuters) - Transgender people will...</td>\n",
       "      <td>politicsNews</td>\n",
       "      <td>December 29, 2017</td>\n",
       "    </tr>\n",
       "    <tr>\n",
       "      <th>2</th>\n",
       "      <td>Senior U.S. Republican senator: 'Let Mr. Muell...</td>\n",
       "      <td>WASHINGTON (Reuters) - The special counsel inv...</td>\n",
       "      <td>politicsNews</td>\n",
       "      <td>December 31, 2017</td>\n",
       "    </tr>\n",
       "    <tr>\n",
       "      <th>3</th>\n",
       "      <td>FBI Russia probe helped by Australian diplomat...</td>\n",
       "      <td>WASHINGTON (Reuters) - Trump campaign adviser ...</td>\n",
       "      <td>politicsNews</td>\n",
       "      <td>December 30, 2017</td>\n",
       "    </tr>\n",
       "    <tr>\n",
       "      <th>4</th>\n",
       "      <td>Trump wants Postal Service to charge 'much mor...</td>\n",
       "      <td>SEATTLE/WASHINGTON (Reuters) - President Donal...</td>\n",
       "      <td>politicsNews</td>\n",
       "      <td>December 29, 2017</td>\n",
       "    </tr>\n",
       "  </tbody>\n",
       "</table>\n",
       "</div>"
      ],
      "text/plain": [
       "                                               title  \\\n",
       "0  As U.S. budget fight looms, Republicans flip t...   \n",
       "1  U.S. military to accept transgender recruits o...   \n",
       "2  Senior U.S. Republican senator: 'Let Mr. Muell...   \n",
       "3  FBI Russia probe helped by Australian diplomat...   \n",
       "4  Trump wants Postal Service to charge 'much mor...   \n",
       "\n",
       "                                                text       subject  \\\n",
       "0  WASHINGTON (Reuters) - The head of a conservat...  politicsNews   \n",
       "1  WASHINGTON (Reuters) - Transgender people will...  politicsNews   \n",
       "2  WASHINGTON (Reuters) - The special counsel inv...  politicsNews   \n",
       "3  WASHINGTON (Reuters) - Trump campaign adviser ...  politicsNews   \n",
       "4  SEATTLE/WASHINGTON (Reuters) - President Donal...  politicsNews   \n",
       "\n",
       "                 date  \n",
       "0  December 31, 2017   \n",
       "1  December 29, 2017   \n",
       "2  December 31, 2017   \n",
       "3  December 30, 2017   \n",
       "4  December 29, 2017   "
      ]
     },
     "execution_count": 5,
     "metadata": {},
     "output_type": "execute_result"
    }
   ],
   "source": [
    "true.head()"
   ]
  },
  {
   "cell_type": "markdown",
   "metadata": {},
   "source": [
    "## Visualize 'true' Headline Data<a id='_Visualize_\"true\"_Headline_Data'></a>"
   ]
  },
  {
   "cell_type": "markdown",
   "metadata": {},
   "source": [
    "We'll start by exploring text statistics visualizations of the 'true' headlines."
   ]
  },
  {
   "cell_type": "markdown",
   "metadata": {},
   "source": [
    "## Word Frequency Analysis<a id='_Word_Frequency_Analysis'></a>"
   ]
  },
  {
   "cell_type": "code",
   "execution_count": 6,
   "metadata": {},
   "outputs": [
    {
     "data": {
      "text/plain": [
       "Text(0, 0.5, 'Count')"
      ]
     },
     "execution_count": 6,
     "metadata": {},
     "output_type": "execute_result"
    },
    {
     "data": {
      "image/png": "[encoded data removed]",
      "text/plain": [
       "<Figure size 432x288 with 1 Axes>"
      ]
     },
     "metadata": {
      "needs_background": "light"
     },
     "output_type": "display_data"
    }
   ],
   "source": [
    "true['title'].str.len().hist()\n",
    "plt.title('Word Frequency Analysis in \"true\" Titles')\n",
    "plt.xlabel('Number of Characters In News Headlines')\n",
    "plt.ylabel('Count')"
   ]
  },
  {
   "cell_type": "markdown",
   "metadata": {},
   "source": [
    "The number of characters in 'true' headlines ranges from roughly 10 to 110. The most frequent number of characters range from 60 to 70."
   ]
  },
  {
   "cell_type": "markdown",
   "metadata": {},
   "source": [
    "## Sentence Length Analysis<a id='_Sentence_Length_Analysis'></a>"
   ]
  },
  {
   "cell_type": "code",
   "execution_count": 7,
   "metadata": {},
   "outputs": [
    {
     "data": {
      "text/plain": [
       "Text(0, 0.5, 'Count')"
      ]
     },
     "execution_count": 7,
     "metadata": {},
     "output_type": "execute_result"
    },
    {
     "data": {
      "image/png": "[encoded data removed]",
      "text/plain": [
       "<Figure size 432x288 with 1 Axes>"
      ]
     },
     "metadata": {
      "needs_background": "light"
     },
     "output_type": "display_data"
    }
   ],
   "source": [
    "true['title'].str.split().\\\n",
    "    map(lambda x: len(x)).\\\n",
    "    hist()\n",
    "plt.title('Sentence Length Analysis')\n",
    "plt.xlabel('Number of Words In Headlines')\n",
    "plt.ylabel('Count')"
   ]
  },
  {
   "cell_type": "markdown",
   "metadata": {},
   "source": [
    "The number of words in 'true' headlines ranges from about 6 to 15. The most frequent amount of words in headlines are about 9 or 10. "
   ]
  },
  {
   "cell_type": "markdown",
   "metadata": {},
   "source": [
    "## Average Word Length Analysis<a id='_Average_Word_Length_Analysis'></a>"
   ]
  },
  {
   "cell_type": "code",
   "execution_count": 8,
   "metadata": {},
   "outputs": [
    {
     "data": {
      "text/plain": [
       "Text(0, 0.5, 'Count')"
      ]
     },
     "execution_count": 8,
     "metadata": {},
     "output_type": "execute_result"
    },
    {
     "data": {
      "image/png": "[encoded data removed]",
      "text/plain": [
       "<Figure size 432x288 with 1 Axes>"
      ]
     },
     "metadata": {
      "needs_background": "light"
     },
     "output_type": "display_data"
    }
   ],
   "source": [
    "true['title'].str.split().\\\n",
    "   apply(lambda x : [len(i) for i in x]). \\\n",
    "   map(lambda x: np.mean(x)).hist()\n",
    "plt.title('Average Word Length Analysis')\n",
    "plt.xlabel('Average Number of Words In Headlines')\n",
    "plt.ylabel('Count')"
   ]
  },
  {
   "cell_type": "markdown",
   "metadata": {},
   "source": [
    "In most headlines, the average number of words is 5. An attention grabbing title is important to get people to read your work. What are the most common words in 'true' titles?"
   ]
  },
  {
   "cell_type": "markdown",
   "metadata": {},
   "source": [
    "## Most Common Words In 'true' Headlines<a id='_Most_Common_Words_In_\"true\"_Headlines'></a>"
   ]
  },
  {
   "cell_type": "code",
   "execution_count": 9,
   "metadata": {},
   "outputs": [],
   "source": [
    "import nltk\n",
    "stop_words = nltk.corpus.stopwords.words(\"english\")\n",
    "stopwords = set(stop_words)"
   ]
  },
  {
   "cell_type": "code",
   "execution_count": 10,
   "metadata": {},
   "outputs": [],
   "source": [
    "corpus=[]\n",
    "new= true['title'].str.split()\n",
    "new=new.values.tolist()\n",
    "corpus=[word for i in new for word in i]"
   ]
  },
  {
   "cell_type": "code",
   "execution_count": 11,
   "metadata": {},
   "outputs": [
    {
     "data": {
      "text/plain": [
       "<matplotlib.axes._subplots.AxesSubplot at 0x16935c40c40>"
      ]
     },
     "execution_count": 11,
     "metadata": {},
     "output_type": "execute_result"
    },
    {
     "data": {
      "image/png": "[encoded data removed]",
      "text/plain": [
       "<Figure size 432x288 with 1 Axes>"
      ]
     },
     "metadata": {
      "needs_background": "light"
     },
     "output_type": "display_data"
    }
   ],
   "source": [
    "counter=Counter(corpus)\n",
    "most=counter.most_common()\n",
    "\n",
    "x, y= [], []\n",
    "for word,count in most[:30]:\n",
    "    if (word not in stopwords):\n",
    "        x.append(word)\n",
    "        y.append(count)\n",
    "        \n",
    "sns.barplot(x=y,y=x)"
   ]
  },
  {
   "cell_type": "markdown",
   "metadata": {},
   "source": [
    "'Trump' and 'U.S' are the two most used words in 'true' headlines. The third most used word is 'says', implying that relevant people have been interviewed for the article. Tying a headline by way of a direct quote from the article is a solid way to avoid clickbait, confusing headlines. The frequency of the other words are significantly lower than the top 3."
   ]
  },
  {
   "cell_type": "markdown",
   "metadata": {},
   "source": [
    "## Bigrams and Trigrams For 'true' Headlines<a id='_Bigrams_and_Trigrams_For_\"true\"_Headlines'></a>"
   ]
  },
  {
   "cell_type": "markdown",
   "metadata": {},
   "source": [
    "Let's investigate what the most common 2 and 3 word phrases are in these news headlines."
   ]
  },
  {
   "cell_type": "code",
   "execution_count": 12,
   "metadata": {},
   "outputs": [],
   "source": [
    "from sklearn.feature_extraction.text import CountVectorizer\n",
    "from collections import  Counter\n",
    "\n",
    "def plot_top_ngrams_barchart(text, n=2):\n",
    "    \n",
    "\n",
    "    new= text.str.split()\n",
    "    new=new.values.tolist()\n",
    "    corpus=[word for i in new for word in i]\n",
    "\n",
    "    def _get_top_ngram(corpus, n=None):\n",
    "        vec = CountVectorizer(ngram_range=(n, n)).fit(corpus)\n",
    "        bag_of_words = vec.transform(corpus)\n",
    "        sum_words = bag_of_words.sum(axis=0) \n",
    "        words_freq = [(word, sum_words[0, idx]) \n",
    "                      for word, idx in vec.vocabulary_.items()]\n",
    "        words_freq =sorted(words_freq, key = lambda x: x[1], reverse=True)\n",
    "        return words_freq[:10]\n",
    "\n",
    "    top_n_bigrams=_get_top_ngram(text,n)[:10]\n",
    "    x,y=map(list,zip(*top_n_bigrams))\n",
    "    sns.barplot(x=y,y=x)"
   ]
  },
  {
   "cell_type": "code",
   "execution_count": 13,
   "metadata": {},
   "outputs": [
    {
     "data": {
      "image/png": "[encoded data removed]",
      "text/plain": [
       "<Figure size 432x288 with 1 Axes>"
      ]
     },
     "metadata": {
      "needs_background": "light"
     },
     "output_type": "display_data"
    }
   ],
   "source": [
    "plot_top_ngrams_barchart(true['title'],2)"
   ]
  },
  {
   "cell_type": "markdown",
   "metadata": {},
   "source": [
    "THe top 3 two word phrases are 'white house', 'north korea', and 'trump says'. These two word phrases don't tell us much information, will 3 or higher word phrases yield deeper insights? "
   ]
  },
  {
   "cell_type": "code",
   "execution_count": 14,
   "metadata": {},
   "outputs": [
    {
     "data": {
      "image/png": "[encoded data removed]",
      "text/plain": [
       "<Figure size 432x288 with 1 Axes>"
      ]
     },
     "metadata": {
      "needs_background": "light"
     },
     "output_type": "display_data"
    }
   ],
   "source": [
    "plot_top_ngrams_barchart(true['title'],3)"
   ]
  },
  {
   "cell_type": "markdown",
   "metadata": {},
   "source": [
    "Here we start to see the three word phrases we have heard over and over on social media. The second most used phrase is 'trump on twitter', no doubt referencing the many tweets Trump wrote during his presidency. Most of the phrases are variations on something about the Trump presidency. These include things Trump has said and events or ongoing situations like the travel ban and the Iran nuclear deal. What do pentagrams look like in these titles?"
   ]
  },
  {
   "cell_type": "code",
   "execution_count": 15,
   "metadata": {},
   "outputs": [
    {
     "data": {
      "image/png": "[encoded data removed]",
      "text/plain": [
       "<Figure size 432x288 with 1 Axes>"
      ]
     },
     "metadata": {
      "needs_background": "light"
     },
     "output_type": "display_data"
    }
   ],
   "source": [
    "plot_top_ngrams_barchart(true['title'],5)"
   ]
  },
  {
   "cell_type": "markdown",
   "metadata": {},
   "source": [
    "The top 3 results are 5 word phrases relating to the Trump presidency. The most common feature of these phrases are the references to jobs within the Trump administration.\n",
    "\n",
    "We have a clear view of what these 'true' titles look like and a rough idea of what the 'true' articles are about. Let's keep this in mind as we look at the 'fake' title data."
   ]
  },
  {
   "cell_type": "markdown",
   "metadata": {},
   "source": [
    "## Visualize 'fake' Title Data<a id='_Visualize_\"fake\"_Title_Data'></a>"
   ]
  },
  {
   "cell_type": "markdown",
   "metadata": {},
   "source": [
    "## Word Frequency Analysis<a id='_Word_Frequency_Analysis'></a>"
   ]
  },
  {
   "cell_type": "code",
   "execution_count": 16,
   "metadata": {},
   "outputs": [
    {
     "data": {
      "text/plain": [
       "Text(0, 0.5, 'Count')"
      ]
     },
     "execution_count": 16,
     "metadata": {},
     "output_type": "execute_result"
    },
    {
     "data": {
      "image/png": "[encoded data removed]",
      "text/plain": [
       "<Figure size 432x288 with 1 Axes>"
      ]
     },
     "metadata": {
      "needs_background": "light"
     },
     "output_type": "display_data"
    }
   ],
   "source": [
    "fake['title'].str.len().hist()\n",
    "plt.title('Word Frequency Analysis in \"fake\" Titles')\n",
    "plt.xlabel('Number of Characters In News Titles')\n",
    "plt.ylabel('Count')"
   ]
  },
  {
   "cell_type": "markdown",
   "metadata": {},
   "source": [
    "The number of characters in 'fake' headlines ranges looks similar to the 'true' headlines. The most frequent number of characters range from about 60 to 70."
   ]
  },
  {
   "cell_type": "markdown",
   "metadata": {},
   "source": [
    "## Sentence Length Analysis<a id='_Sentence_Length_Analysis'></a>"
   ]
  },
  {
   "cell_type": "code",
   "execution_count": 17,
   "metadata": {},
   "outputs": [
    {
     "data": {
      "text/plain": [
       "Text(0, 0.5, 'Count')"
      ]
     },
     "execution_count": 17,
     "metadata": {},
     "output_type": "execute_result"
    },
    {
     "data": {
      "image/png": "[encoded data removed]",
      "text/plain": [
       "<Figure size 432x288 with 1 Axes>"
      ]
     },
     "metadata": {
      "needs_background": "light"
     },
     "output_type": "display_data"
    }
   ],
   "source": [
    "fake['title'].str.split().\\\n",
    "    map(lambda x: len(x)).\\\n",
    "    hist()\n",
    "plt.title('Sentence Length Analysis')\n",
    "plt.xlabel('Number of Words In Titles')\n",
    "plt.ylabel('Count')"
   ]
  },
  {
   "cell_type": "markdown",
   "metadata": {},
   "source": [
    "The number of words in 'fake' headlines ranges from about 1 to 40. This range of words is much wider than in the 'true' headlines. A handful of headlines contain 30+ words! Most headlines have about 10 to 17 words in them."
   ]
  },
  {
   "cell_type": "markdown",
   "metadata": {},
   "source": [
    "## Average Word Length Analysis<a id='_Average_Word_Length_Analysis'></a>"
   ]
  },
  {
   "cell_type": "code",
   "execution_count": 18,
   "metadata": {},
   "outputs": [
    {
     "data": {
      "text/plain": [
       "Text(0, 0.5, 'Count')"
      ]
     },
     "execution_count": 18,
     "metadata": {},
     "output_type": "execute_result"
    },
    {
     "data": {
      "image/png": "[encoded data removed]",
      "text/plain": [
       "<Figure size 432x288 with 1 Axes>"
      ]
     },
     "metadata": {
      "needs_background": "light"
     },
     "output_type": "display_data"
    }
   ],
   "source": [
    "fake['title'].str.split().\\\n",
    "   apply(lambda x : [len(i) for i in x]). \\\n",
    "   map(lambda x: np.mean(x)).hist()\n",
    "plt.title('Average Word Length Analysis')\n",
    "plt.xlabel('Average Number of Words In Headlines')\n",
    "plt.ylabel('Count')"
   ]
  },
  {
   "cell_type": "markdown",
   "metadata": {},
   "source": [
    "In all 'fake' headlines, the average number of words is less than 20. This is similar to the average number of words in 'true' headlines. Besides sentence length, the text statistics visualization didn't yield any startling differences between both sets of headlines. Let's take a look at the ngrams and most common words in these headlines."
   ]
  },
  {
   "cell_type": "markdown",
   "metadata": {},
   "source": [
    "## Most Common Words In 'fake' Headlines<a id='_Most_Common_Words_In_\"fake\"_Headlines'></a>"
   ]
  },
  {
   "cell_type": "code",
   "execution_count": 19,
   "metadata": {},
   "outputs": [],
   "source": [
    "f_corpus=[]\n",
    "f_new= fake['title'].str.split()\n",
    "f_new=f_new.values.tolist()\n",
    "f_corpus=[word for i in f_new for word in i]"
   ]
  },
  {
   "cell_type": "code",
   "execution_count": 20,
   "metadata": {},
   "outputs": [
    {
     "data": {
      "text/plain": [
       "<matplotlib.axes._subplots.AxesSubplot at 0x16935d08520>"
      ]
     },
     "execution_count": 20,
     "metadata": {},
     "output_type": "execute_result"
    },
    {
     "data": {
      "image/png": "[encoded data removed]",
      "text/plain": [
       "<Figure size 432x288 with 1 Axes>"
      ]
     },
     "metadata": {
      "needs_background": "light"
     },
     "output_type": "display_data"
    }
   ],
   "source": [
    "f_counter=Counter(f_corpus)\n",
    "most=f_counter.most_common()\n",
    "\n",
    "x, y= [], []\n",
    "for word,count in most[:20]:\n",
    "    if (word not in stopwords):\n",
    "        x.append(word)\n",
    "        y.append(count)\n",
    "        \n",
    "sns.barplot(x=y,y=x)"
   ]
  },
  {
   "cell_type": "markdown",
   "metadata": {},
   "source": [
    "Both types of news are dominated by headlines relating to former U.S. president Donald Trump. Just by observing the most common words in these titles, it appears that real news uses anecdotal dialouge to create context for the article. \n",
    "\n",
    "On the flip side, fake news appear to rely on videos to get clicks on articles. Watching videos appears to make up the bulk of the content within these fake news articles. Fake news likes to use famous democrats for clicks as well. "
   ]
  },
  {
   "cell_type": "markdown",
   "metadata": {},
   "source": [
    "## Bigrams and Trigrams For 'fake' Headlines<a id='_Bigrams_and_Trigrams_For_\"fake\"_Headlines'></a>"
   ]
  },
  {
   "cell_type": "code",
   "execution_count": 21,
   "metadata": {},
   "outputs": [],
   "source": [
    "def plot_top_fake_ngrams_barchart(text, n=2):\n",
    "    \n",
    "\n",
    "    new= text.str.split()\n",
    "    new=new.values.tolist()\n",
    "    corpus=[word for i in new for word in i]\n",
    "\n",
    "    def _get_top_ngram(corpus, n=None):\n",
    "        vec = CountVectorizer(ngram_range=(n, n)).fit(corpus)\n",
    "        bag_of_words = vec.transform(corpus)\n",
    "        sum_words = bag_of_words.sum(axis=0) \n",
    "        words_freq = [(word, sum_words[0, idx]) \n",
    "                      for word, idx in vec.vocabulary_.items()]\n",
    "        words_freq =sorted(words_freq, key = lambda x: x[1], reverse=True)\n",
    "        return words_freq[:10]\n",
    "\n",
    "    top_n_bigrams=_get_top_ngram(text,n)[:10]\n",
    "    x,y=map(list,zip(*top_n_bigrams))\n",
    "    sns.barplot(x=y,y=x)"
   ]
  },
  {
   "cell_type": "code",
   "execution_count": 22,
   "metadata": {},
   "outputs": [
    {
     "data": {
      "image/png": "[encoded data removed]",
      "text/plain": [
       "<Figure size 432x288 with 1 Axes>"
      ]
     },
     "metadata": {
      "needs_background": "light"
     },
     "output_type": "display_data"
    }
   ],
   "source": [
    "plot_top_fake_ngrams_barchart(fake['title'],2)"
   ]
  },
  {
   "cell_type": "markdown",
   "metadata": {},
   "source": [
    "Both of the datasets refer to Trump, but the 'fake' headlines has 'donald trump' and 'president trump' as the most used two word phrases in these headlines. In third place is 'hillary clinton', a name that is infamous among right-wing circles. Fake news also uses 'fox news' over 300 hundred times in this dataset. Fox news did not appear in any of the ngrams for the 'true' headlines. Let's move on to trigrams!"
   ]
  },
  {
   "cell_type": "code",
   "execution_count": 23,
   "metadata": {},
   "outputs": [
    {
     "data": {
      "image/png": "[encoded data removed]",
      "text/plain": [
       "<Figure size 432x288 with 1 Axes>"
      ]
     },
     "metadata": {
      "needs_background": "light"
     },
     "output_type": "display_data"
    }
   ],
   "source": [
    "plot_top_fake_ngrams_barchart(fake['title'],3)"
   ]
  },
  {
   "cell_type": "markdown",
   "metadata": {},
   "source": [
    "These trigrams are the start of the polarization fake news is infamous for. 'black lives matter' took the top spot with about 160 instances. The next trigram, 'boiler room ep' appears to be a podcast. Let's check out the pentagrams."
   ]
  },
  {
   "cell_type": "code",
   "execution_count": 24,
   "metadata": {},
   "outputs": [
    {
     "data": {
      "image/png": "[encoded data removed]",
      "text/plain": [
       "<Figure size 432x288 with 1 Axes>"
      ]
     },
     "metadata": {
      "needs_background": "light"
     },
     "output_type": "display_data"
    }
   ],
   "source": [
    "plot_top_fake_ngrams_barchart(fake['title'],5)"
   ]
  },
  {
   "cell_type": "markdown",
   "metadata": {},
   "source": [
    "The top pentagram, 'gets his handed to him' is the most used 5 word phrase. It occured about 25 times. This is where the comparison between 'true' and 'fake' headlines gets interesting. Comparing the pentagrams of both datasets, you can get a glimpse of the junk fake news is peddling. Granted, these particular phrases don't appear too often, but the comparison of 'true' and 'fake' pentagrams are telling. There is a lot of promotion going on for what appears to be a podcast(s). "
   ]
  },
  {
   "cell_type": "markdown",
   "metadata": {},
   "source": [
    "## Feature Engineering For Lexical Diversity<a id='_Feature_Engineering_For_Lexical_Diversity'></a>"
   ]
  },
  {
   "cell_type": "code",
   "execution_count": 25,
   "metadata": {},
   "outputs": [],
   "source": [
    "true = true.drop(true.index[8970])\n",
    "fake = fake.drop(fake.index[18994])\n",
    "fake = fake.drop(fake.index[11531])\n",
    "fake = fake.drop(fake.index[12410])\n",
    "fake = fake.drop(fake.index[16273])\n",
    "fake = fake.drop(fake.index[11788])\n",
    "fake = fake.drop(fake.index[19557])\n",
    "fake = fake.drop(fake.index[18994])\n",
    "fake = fake.drop(fake.index[11531])"
   ]
  },
  {
   "cell_type": "code",
   "execution_count": 26,
   "metadata": {},
   "outputs": [],
   "source": [
    "fake = fake.drop(fake.index[12410])\n",
    "fake = fake.drop(fake.index[16273])\n",
    "fake = fake.drop(fake.index[11788])\n",
    "fake = fake.drop(fake.index[11296])\n",
    "fake = fake.drop(fake.index[11247])\n",
    "fake = fake.drop(fake.index[12579])\n",
    "fake = fake.drop(fake.index[12578])\n",
    "fake = fake.drop(fake.index[12574])"
   ]
  },
  {
   "cell_type": "code",
   "execution_count": 27,
   "metadata": {},
   "outputs": [],
   "source": [
    "fake_title = fake['title']\n",
    "fake_text = fake['text']"
   ]
  },
  {
   "cell_type": "code",
   "execution_count": 28,
   "metadata": {},
   "outputs": [],
   "source": [
    "true_text = true['text']\n",
    "true_title = true['title']"
   ]
  },
  {
   "cell_type": "code",
   "execution_count": 29,
   "metadata": {},
   "outputs": [],
   "source": [
    "true['is_fake'] = 0 # contains only news\n",
    "fake['is_fake'] = 1 # contains only fakes\n",
    "\n",
    "# merge them into one file\n",
    "data = pd.concat([true, fake])\n",
    "data = data.reset_index()\n",
    "# don't forget to shuffle them. \n",
    "# Otherwise all news are on top and all fakes are on the bottom\n",
    "data = data.sample(frac=1)"
   ]
  },
  {
   "cell_type": "code",
   "execution_count": 30,
   "metadata": {},
   "outputs": [],
   "source": [
    "data = data.drop(['date'], axis=1)"
   ]
  },
  {
   "cell_type": "code",
   "execution_count": 31,
   "metadata": {},
   "outputs": [],
   "source": [
    "from sklearn.model_selection import train_test_split\n",
    "train, test = train_test_split(data, test_size=0.25, random_state=42)\n",
    "X_train = train.drop('is_fake', axis=1)\n",
    "y_train = train['is_fake']\n",
    "X_test = test.drop('is_fake', axis=1)\n",
    "y_test = test['is_fake']"
   ]
  },
  {
   "cell_type": "markdown",
   "metadata": {},
   "source": [
    "Both news types are roughly equal among both the train and test data. Let's split the training data into news and fake news to explore lexical diversity among them. "
   ]
  },
  {
   "cell_type": "code",
   "execution_count": 32,
   "metadata": {},
   "outputs": [],
   "source": [
    "train_news = X_train.loc[(y_train==0),:]\n",
    "train_fake = X_train.loc[(y_train==1),:]"
   ]
  },
  {
   "cell_type": "markdown",
   "metadata": {},
   "source": [
    "## Lexical Diversity of All News<a id='_Lexical_Diversity_of_All_News'></a>"
   ]
  },
  {
   "cell_type": "markdown",
   "metadata": {},
   "source": [
    "In this notebook, we will define lexical diversity as the number of unique words in one (target) category / number of words in both (target) categories"
   ]
  },
  {
   "cell_type": "code",
   "execution_count": 33,
   "metadata": {},
   "outputs": [],
   "source": [
    "# lexical diversity\n",
    "def lexical_dive(text):\n",
    "    return len(set(text)) / len(text)"
   ]
  },
  {
   "cell_type": "markdown",
   "metadata": {},
   "source": [
    "## Lexical Diversity Within Text<a id='_Lexical_Diversity_Within_Text'></a>"
   ]
  },
  {
   "cell_type": "code",
   "execution_count": 34,
   "metadata": {},
   "outputs": [
    {
     "data": {
      "text/html": [
       "<div>\n",
       "<style scoped>\n",
       "    .dataframe tbody tr th:only-of-type {\n",
       "        vertical-align: middle;\n",
       "    }\n",
       "\n",
       "    .dataframe tbody tr th {\n",
       "        vertical-align: top;\n",
       "    }\n",
       "\n",
       "    .dataframe thead th {\n",
       "        text-align: right;\n",
       "    }\n",
       "</style>\n",
       "<table border=\"1\" class=\"dataframe\">\n",
       "  <thead>\n",
       "    <tr style=\"text-align: right;\">\n",
       "      <th></th>\n",
       "      <th>title</th>\n",
       "      <th>tokens</th>\n",
       "      <th>types</th>\n",
       "      <th>lexical_diversity</th>\n",
       "    </tr>\n",
       "  </thead>\n",
       "  <tbody>\n",
       "    <tr>\n",
       "      <th>4544</th>\n",
       "      <td>WASHINGTON (Reuters) - Lockheed Martin Corp is...</td>\n",
       "      <td>168</td>\n",
       "      <td>49</td>\n",
       "      <td>0.291667</td>\n",
       "    </tr>\n",
       "    <tr>\n",
       "      <th>6131</th>\n",
       "      <td>WASHINGTON (Reuters) - U.S. President Donald T...</td>\n",
       "      <td>152</td>\n",
       "      <td>42</td>\n",
       "      <td>0.276316</td>\n",
       "    </tr>\n",
       "    <tr>\n",
       "      <th>16058</th>\n",
       "      <td>MADRID (Reuters) - Spain s cabinet will hold a...</td>\n",
       "      <td>152</td>\n",
       "      <td>39</td>\n",
       "      <td>0.256579</td>\n",
       "    </tr>\n",
       "    <tr>\n",
       "      <th>19358</th>\n",
       "      <td>FLORENCE, Italy (Reuters) - Britain wants to b...</td>\n",
       "      <td>156</td>\n",
       "      <td>40</td>\n",
       "      <td>0.256410</td>\n",
       "    </tr>\n",
       "    <tr>\n",
       "      <th>20490</th>\n",
       "      <td>(Reuters) - The center of Hurricane Irma made ...</td>\n",
       "      <td>165</td>\n",
       "      <td>42</td>\n",
       "      <td>0.254545</td>\n",
       "    </tr>\n",
       "    <tr>\n",
       "      <th>...</th>\n",
       "      <td>...</td>\n",
       "      <td>...</td>\n",
       "      <td>...</td>\n",
       "      <td>...</td>\n",
       "    </tr>\n",
       "    <tr>\n",
       "      <th>3319</th>\n",
       "      <td>(Reuters) - Following is the full text of form...</td>\n",
       "      <td>18541</td>\n",
       "      <td>69</td>\n",
       "      <td>0.003721</td>\n",
       "    </tr>\n",
       "    <tr>\n",
       "      <th>14756</th>\n",
       "      <td>CARACAS (Reuters) - Last March, Chief Justice ...</td>\n",
       "      <td>17999</td>\n",
       "      <td>65</td>\n",
       "      <td>0.003611</td>\n",
       "    </tr>\n",
       "    <tr>\n",
       "      <th>2594</th>\n",
       "      <td>WASHINGTON (Reuters) - I am voluntarily provid...</td>\n",
       "      <td>21559</td>\n",
       "      <td>74</td>\n",
       "      <td>0.003432</td>\n",
       "    </tr>\n",
       "    <tr>\n",
       "      <th>8465</th>\n",
       "      <td>ALGONAC, MICH.—Parker Fox drifted out of the D...</td>\n",
       "      <td>21661</td>\n",
       "      <td>73</td>\n",
       "      <td>0.003370</td>\n",
       "    </tr>\n",
       "    <tr>\n",
       "      <th>2816</th>\n",
       "      <td>(Reuters) - U.S. Environmental Protection Agen...</td>\n",
       "      <td>29781</td>\n",
       "      <td>79</td>\n",
       "      <td>0.002653</td>\n",
       "    </tr>\n",
       "  </tbody>\n",
       "</table>\n",
       "<p>21416 rows × 4 columns</p>\n",
       "</div>"
      ],
      "text/plain": [
       "                                                   title  tokens  types  \\\n",
       "4544   WASHINGTON (Reuters) - Lockheed Martin Corp is...     168     49   \n",
       "6131   WASHINGTON (Reuters) - U.S. President Donald T...     152     42   \n",
       "16058  MADRID (Reuters) - Spain s cabinet will hold a...     152     39   \n",
       "19358  FLORENCE, Italy (Reuters) - Britain wants to b...     156     40   \n",
       "20490  (Reuters) - The center of Hurricane Irma made ...     165     42   \n",
       "...                                                  ...     ...    ...   \n",
       "3319   (Reuters) - Following is the full text of form...   18541     69   \n",
       "14756  CARACAS (Reuters) - Last March, Chief Justice ...   17999     65   \n",
       "2594   WASHINGTON (Reuters) - I am voluntarily provid...   21559     74   \n",
       "8465   ALGONAC, MICH.—Parker Fox drifted out of the D...   21661     73   \n",
       "2816   (Reuters) - U.S. Environmental Protection Agen...   29781     79   \n",
       "\n",
       "       lexical_diversity  \n",
       "4544            0.291667  \n",
       "6131            0.276316  \n",
       "16058           0.256579  \n",
       "19358           0.256410  \n",
       "20490           0.254545  \n",
       "...                  ...  \n",
       "3319            0.003721  \n",
       "14756           0.003611  \n",
       "2594            0.003432  \n",
       "8465            0.003370  \n",
       "2816            0.002653  \n",
       "\n",
       "[21416 rows x 4 columns]"
      ]
     },
     "execution_count": 34,
     "metadata": {},
     "output_type": "execute_result"
    }
   ],
   "source": [
    "lexicalDiversity = [lexical_dive(text) for text in true_text]\n",
    "tokens = [len(text) for text in true_text]\n",
    "types = [len(set(text)) for text in true_text]\n",
    "title = [text for text in true_text]\n",
    "\n",
    "ld = pd.DataFrame({'title': title, 'tokens': tokens, 'types': types,\n",
    "                   'lexical_diversity': lexicalDiversity})\n",
    "\n",
    "ld.sort_values(by='lexical_diversity', ascending=False)"
   ]
  },
  {
   "cell_type": "markdown",
   "metadata": {},
   "source": [
    "There is a wide range between max and min lexical diversity in text from the 'true' data. The more tokens and types, the lower the lexical diversity. The tokens within the 'true' dataset range from about 150 to about 30000. "
   ]
  },
  {
   "cell_type": "code",
   "execution_count": 35,
   "metadata": {},
   "outputs": [
    {
     "data": {
      "text/html": [
       "<div>\n",
       "<style scoped>\n",
       "    .dataframe tbody tr th:only-of-type {\n",
       "        vertical-align: middle;\n",
       "    }\n",
       "\n",
       "    .dataframe tbody tr th {\n",
       "        vertical-align: top;\n",
       "    }\n",
       "\n",
       "    .dataframe thead th {\n",
       "        text-align: right;\n",
       "    }\n",
       "</style>\n",
       "<table border=\"1\" class=\"dataframe\">\n",
       "  <thead>\n",
       "    <tr style=\"text-align: right;\">\n",
       "      <th></th>\n",
       "      <th>title</th>\n",
       "      <th>tokens</th>\n",
       "      <th>types</th>\n",
       "      <th>lexical_diversity</th>\n",
       "    </tr>\n",
       "  </thead>\n",
       "  <tbody>\n",
       "    <tr>\n",
       "      <th>11632</th>\n",
       "      <td></td>\n",
       "      <td>1</td>\n",
       "      <td>1</td>\n",
       "      <td>1.000000</td>\n",
       "    </tr>\n",
       "    <tr>\n",
       "      <th>11909</th>\n",
       "      <td></td>\n",
       "      <td>1</td>\n",
       "      <td>1</td>\n",
       "      <td>1.000000</td>\n",
       "    </tr>\n",
       "    <tr>\n",
       "      <th>11878</th>\n",
       "      <td></td>\n",
       "      <td>1</td>\n",
       "      <td>1</td>\n",
       "      <td>1.000000</td>\n",
       "    </tr>\n",
       "    <tr>\n",
       "      <th>11883</th>\n",
       "      <td></td>\n",
       "      <td>1</td>\n",
       "      <td>1</td>\n",
       "      <td>1.000000</td>\n",
       "    </tr>\n",
       "    <tr>\n",
       "      <th>11887</th>\n",
       "      <td></td>\n",
       "      <td>1</td>\n",
       "      <td>1</td>\n",
       "      <td>1.000000</td>\n",
       "    </tr>\n",
       "    <tr>\n",
       "      <th>...</th>\n",
       "      <td>...</td>\n",
       "      <td>...</td>\n",
       "      <td>...</td>\n",
       "      <td>...</td>\n",
       "    </tr>\n",
       "    <tr>\n",
       "      <th>19605</th>\n",
       "      <td>There have been many articles written about Ge...</td>\n",
       "      <td>46960</td>\n",
       "      <td>74</td>\n",
       "      <td>0.001576</td>\n",
       "    </tr>\n",
       "    <tr>\n",
       "      <th>17836</th>\n",
       "      <td>We just discovered another reason NOT to suppo...</td>\n",
       "      <td>49705</td>\n",
       "      <td>74</td>\n",
       "      <td>0.001489</td>\n",
       "    </tr>\n",
       "    <tr>\n",
       "      <th>9731</th>\n",
       "      <td>We just discovered another reason NOT to suppo...</td>\n",
       "      <td>49705</td>\n",
       "      <td>74</td>\n",
       "      <td>0.001489</td>\n",
       "    </tr>\n",
       "    <tr>\n",
       "      <th>22287</th>\n",
       "      <td>Funny how secrets travel. I d start to believ...</td>\n",
       "      <td>51794</td>\n",
       "      <td>76</td>\n",
       "      <td>0.001467</td>\n",
       "    </tr>\n",
       "    <tr>\n",
       "      <th>23070</th>\n",
       "      <td>Funny how secrets travel. I d start to believ...</td>\n",
       "      <td>51794</td>\n",
       "      <td>76</td>\n",
       "      <td>0.001467</td>\n",
       "    </tr>\n",
       "  </tbody>\n",
       "</table>\n",
       "<p>23465 rows × 4 columns</p>\n",
       "</div>"
      ],
      "text/plain": [
       "                                                   title  tokens  types  \\\n",
       "11632                                                          1      1   \n",
       "11909                                                          1      1   \n",
       "11878                                                          1      1   \n",
       "11883                                                          1      1   \n",
       "11887                                                          1      1   \n",
       "...                                                  ...     ...    ...   \n",
       "19605  There have been many articles written about Ge...   46960     74   \n",
       "17836  We just discovered another reason NOT to suppo...   49705     74   \n",
       "9731   We just discovered another reason NOT to suppo...   49705     74   \n",
       "22287   Funny how secrets travel. I d start to believ...   51794     76   \n",
       "23070   Funny how secrets travel. I d start to believ...   51794     76   \n",
       "\n",
       "       lexical_diversity  \n",
       "11632           1.000000  \n",
       "11909           1.000000  \n",
       "11878           1.000000  \n",
       "11883           1.000000  \n",
       "11887           1.000000  \n",
       "...                  ...  \n",
       "19605           0.001576  \n",
       "17836           0.001489  \n",
       "9731            0.001489  \n",
       "22287           0.001467  \n",
       "23070           0.001467  \n",
       "\n",
       "[23465 rows x 4 columns]"
      ]
     },
     "execution_count": 35,
     "metadata": {},
     "output_type": "execute_result"
    }
   ],
   "source": [
    "fake_lexicalDiversity = [lexical_dive(text) for text in fake_text]\n",
    "tokens = [len(text) for text in fake_text]\n",
    "types = [len(set(text)) for text in fake_text]\n",
    "title = [text for text in fake_text]\n",
    "\n",
    "ld = pd.DataFrame({'title': title, 'tokens': tokens, 'types': types,\n",
    "                   'lexical_diversity': fake_lexicalDiversity})\n",
    "\n",
    "ld.sort_values(by='lexical_diversity', ascending=False)"
   ]
  },
  {
   "cell_type": "markdown",
   "metadata": {},
   "source": [
    "There are lots of text entries in the 'fake' dataset that don't contain text. This could be explained by having news sources that contain videos or other media instead of text. These entries artificially bump the 'fake' datasets lexical diversity for it's text. The types appear to max out in the mid-seventies, similar to the 'true' text. The tokens range from 1 to about 50000. The lexical diversity range is more dramatic for the 'fake' data than the 'true' data. We will compare the two later in this notebook."
   ]
  },
  {
   "cell_type": "markdown",
   "metadata": {},
   "source": [
    "## Lexical Diversity Within Titles<a id='_Lexical_Diversity_Within_Titles'></a>"
   ]
  },
  {
   "cell_type": "code",
   "execution_count": 36,
   "metadata": {},
   "outputs": [
    {
     "data": {
      "text/html": [
       "<div>\n",
       "<style scoped>\n",
       "    .dataframe tbody tr th:only-of-type {\n",
       "        vertical-align: middle;\n",
       "    }\n",
       "\n",
       "    .dataframe tbody tr th {\n",
       "        vertical-align: top;\n",
       "    }\n",
       "\n",
       "    .dataframe thead th {\n",
       "        text-align: right;\n",
       "    }\n",
       "</style>\n",
       "<table border=\"1\" class=\"dataframe\">\n",
       "  <thead>\n",
       "    <tr style=\"text-align: right;\">\n",
       "      <th></th>\n",
       "      <th>title</th>\n",
       "      <th>tokens</th>\n",
       "      <th>types</th>\n",
       "      <th>lexical_diversity</th>\n",
       "    </tr>\n",
       "  </thead>\n",
       "  <tbody>\n",
       "    <tr>\n",
       "      <th>13483</th>\n",
       "      <td>The Adoration Of Kim Jong Un</td>\n",
       "      <td>28</td>\n",
       "      <td>19</td>\n",
       "      <td>0.678571</td>\n",
       "    </tr>\n",
       "    <tr>\n",
       "      <th>5290</th>\n",
       "      <td>Trump on Twitter (Feb 24) - FBI leaks</td>\n",
       "      <td>37</td>\n",
       "      <td>25</td>\n",
       "      <td>0.675676</td>\n",
       "    </tr>\n",
       "    <tr>\n",
       "      <th>70</th>\n",
       "      <td>Trump on Twitter (Dec 20) - Tax Bill</td>\n",
       "      <td>36</td>\n",
       "      <td>23</td>\n",
       "      <td>0.638889</td>\n",
       "    </tr>\n",
       "    <tr>\n",
       "      <th>11482</th>\n",
       "      <td>Turkey's parliament approves 2018 budget</td>\n",
       "      <td>40</td>\n",
       "      <td>25</td>\n",
       "      <td>0.625000</td>\n",
       "    </tr>\n",
       "    <tr>\n",
       "      <th>5479</th>\n",
       "      <td>The Trump presidency on Feb. 13 at 8:05 P.M. EST</td>\n",
       "      <td>48</td>\n",
       "      <td>30</td>\n",
       "      <td>0.625000</td>\n",
       "    </tr>\n",
       "    <tr>\n",
       "      <th>...</th>\n",
       "      <td>...</td>\n",
       "      <td>...</td>\n",
       "      <td>...</td>\n",
       "      <td>...</td>\n",
       "    </tr>\n",
       "    <tr>\n",
       "      <th>15581</th>\n",
       "      <td>Nigeria offers to meet militants after ceasefi...</td>\n",
       "      <td>72</td>\n",
       "      <td>16</td>\n",
       "      <td>0.222222</td>\n",
       "    </tr>\n",
       "    <tr>\n",
       "      <th>18096</th>\n",
       "      <td>NZ opposition Labour says in a stronger positi...</td>\n",
       "      <td>99</td>\n",
       "      <td>22</td>\n",
       "      <td>0.222222</td>\n",
       "    </tr>\n",
       "    <tr>\n",
       "      <th>19171</th>\n",
       "      <td>Iraqi government asks Kurdistan regional gover...</td>\n",
       "      <td>109</td>\n",
       "      <td>24</td>\n",
       "      <td>0.220183</td>\n",
       "    </tr>\n",
       "    <tr>\n",
       "      <th>16456</th>\n",
       "      <td>Israel willing to resort to military action to...</td>\n",
       "      <td>92</td>\n",
       "      <td>20</td>\n",
       "      <td>0.217391</td>\n",
       "    </tr>\n",
       "    <tr>\n",
       "      <th>11489</th>\n",
       "      <td>Honduran opposition candidate Nasralla says \"I...</td>\n",
       "      <td>133</td>\n",
       "      <td>27</td>\n",
       "      <td>0.203008</td>\n",
       "    </tr>\n",
       "  </tbody>\n",
       "</table>\n",
       "<p>21416 rows × 4 columns</p>\n",
       "</div>"
      ],
      "text/plain": [
       "                                                   title  tokens  types  \\\n",
       "13483                       The Adoration Of Kim Jong Un      28     19   \n",
       "5290               Trump on Twitter (Feb 24) - FBI leaks      37     25   \n",
       "70                  Trump on Twitter (Dec 20) - Tax Bill      36     23   \n",
       "11482           Turkey's parliament approves 2018 budget      40     25   \n",
       "5479    The Trump presidency on Feb. 13 at 8:05 P.M. EST      48     30   \n",
       "...                                                  ...     ...    ...   \n",
       "15581  Nigeria offers to meet militants after ceasefi...      72     16   \n",
       "18096  NZ opposition Labour says in a stronger positi...      99     22   \n",
       "19171  Iraqi government asks Kurdistan regional gover...     109     24   \n",
       "16456  Israel willing to resort to military action to...      92     20   \n",
       "11489  Honduran opposition candidate Nasralla says \"I...     133     27   \n",
       "\n",
       "       lexical_diversity  \n",
       "13483           0.678571  \n",
       "5290            0.675676  \n",
       "70              0.638889  \n",
       "11482           0.625000  \n",
       "5479            0.625000  \n",
       "...                  ...  \n",
       "15581           0.222222  \n",
       "18096           0.222222  \n",
       "19171           0.220183  \n",
       "16456           0.217391  \n",
       "11489           0.203008  \n",
       "\n",
       "[21416 rows x 4 columns]"
      ]
     },
     "execution_count": 36,
     "metadata": {},
     "output_type": "execute_result"
    }
   ],
   "source": [
    "lexicalDiversity_title = [lexical_dive(text) for text in true_title]\n",
    "tokens = [len(text) for text in true_title]\n",
    "types = [len(set(text)) for text in true_title]\n",
    "title = [text for text in true_title]\n",
    "\n",
    "ld = pd.DataFrame({'title': title, 'tokens': tokens, 'types': types,\n",
    "                   'lexical_diversity': lexicalDiversity_title})\n",
    "\n",
    "ld.sort_values(by='lexical_diversity', ascending=False)"
   ]
  },
  {
   "cell_type": "markdown",
   "metadata": {},
   "source": [
    "The high end of the lexical diversity range for 'true' titles has diminished and the low end has increased in relation to the 'true' text. Let's compare the 'true' titles to the 'fake' titles."
   ]
  },
  {
   "cell_type": "code",
   "execution_count": 37,
   "metadata": {},
   "outputs": [
    {
     "data": {
      "text/html": [
       "<div>\n",
       "<style scoped>\n",
       "    .dataframe tbody tr th:only-of-type {\n",
       "        vertical-align: middle;\n",
       "    }\n",
       "\n",
       "    .dataframe tbody tr th {\n",
       "        vertical-align: top;\n",
       "    }\n",
       "\n",
       "    .dataframe thead th {\n",
       "        text-align: right;\n",
       "    }\n",
       "</style>\n",
       "<table border=\"1\" class=\"dataframe\">\n",
       "  <thead>\n",
       "    <tr style=\"text-align: right;\">\n",
       "      <th></th>\n",
       "      <th>title</th>\n",
       "      <th>tokens</th>\n",
       "      <th>types</th>\n",
       "      <th>lexical_diversity</th>\n",
       "    </tr>\n",
       "  </thead>\n",
       "  <tbody>\n",
       "    <tr>\n",
       "      <th>21212</th>\n",
       "      <td>No Words… [VIDEO]</td>\n",
       "      <td>17</td>\n",
       "      <td>15</td>\n",
       "      <td>0.882353</td>\n",
       "    </tr>\n",
       "    <tr>\n",
       "      <th>18920</th>\n",
       "      <td>Homepage</td>\n",
       "      <td>8</td>\n",
       "      <td>7</td>\n",
       "      <td>0.875000</td>\n",
       "    </tr>\n",
       "    <tr>\n",
       "      <th>22763</th>\n",
       "      <td>SUNDAY SCREENING: Overpill (2017)</td>\n",
       "      <td>33</td>\n",
       "      <td>26</td>\n",
       "      <td>0.787879</td>\n",
       "    </tr>\n",
       "    <tr>\n",
       "      <th>21980</th>\n",
       "      <td>SUNDAY SCREENING: Overpill (2017)</td>\n",
       "      <td>33</td>\n",
       "      <td>26</td>\n",
       "      <td>0.787879</td>\n",
       "    </tr>\n",
       "    <tr>\n",
       "      <th>22314</th>\n",
       "      <td>Boiler Room EP #87</td>\n",
       "      <td>18</td>\n",
       "      <td>14</td>\n",
       "      <td>0.777778</td>\n",
       "    </tr>\n",
       "    <tr>\n",
       "      <th>...</th>\n",
       "      <td>...</td>\n",
       "      <td>...</td>\n",
       "      <td>...</td>\n",
       "      <td>...</td>\n",
       "    </tr>\n",
       "    <tr>\n",
       "      <th>16758</th>\n",
       "      <td>BREAKING UPDATE…Last Holdout: “I DECLARE WAR A...</td>\n",
       "      <td>279</td>\n",
       "      <td>47</td>\n",
       "      <td>0.168459</td>\n",
       "    </tr>\n",
       "    <tr>\n",
       "      <th>14874</th>\n",
       "      <td>A Timeless Thanksgiving Address From Ronald Re...</td>\n",
       "      <td>190</td>\n",
       "      <td>32</td>\n",
       "      <td>0.168421</td>\n",
       "    </tr>\n",
       "    <tr>\n",
       "      <th>15499</th>\n",
       "      <td>UPDATE: JUDGE ORDERS CANCELLATION OF REDSKINS ...</td>\n",
       "      <td>159</td>\n",
       "      <td>26</td>\n",
       "      <td>0.163522</td>\n",
       "    </tr>\n",
       "    <tr>\n",
       "      <th>17217</th>\n",
       "      <td>UPDATE: JUDGE ORDERS CANCELLATION OF REDSKINS ...</td>\n",
       "      <td>159</td>\n",
       "      <td>26</td>\n",
       "      <td>0.163522</td>\n",
       "    </tr>\n",
       "    <tr>\n",
       "      <th>15798</th>\n",
       "      <td>MUST WATCH VIDEO: LISTEN TO OBAMA AND HIS COMM...</td>\n",
       "      <td>141</td>\n",
       "      <td>23</td>\n",
       "      <td>0.163121</td>\n",
       "    </tr>\n",
       "  </tbody>\n",
       "</table>\n",
       "<p>23465 rows × 4 columns</p>\n",
       "</div>"
      ],
      "text/plain": [
       "                                                   title  tokens  types  \\\n",
       "21212                                  No Words… [VIDEO]      17     15   \n",
       "18920                                           Homepage       8      7   \n",
       "22763                  SUNDAY SCREENING: Overpill (2017)      33     26   \n",
       "21980                  SUNDAY SCREENING: Overpill (2017)      33     26   \n",
       "22314                                 Boiler Room EP #87      18     14   \n",
       "...                                                  ...     ...    ...   \n",
       "16758  BREAKING UPDATE…Last Holdout: “I DECLARE WAR A...     279     47   \n",
       "14874  A Timeless Thanksgiving Address From Ronald Re...     190     32   \n",
       "15499  UPDATE: JUDGE ORDERS CANCELLATION OF REDSKINS ...     159     26   \n",
       "17217  UPDATE: JUDGE ORDERS CANCELLATION OF REDSKINS ...     159     26   \n",
       "15798  MUST WATCH VIDEO: LISTEN TO OBAMA AND HIS COMM...     141     23   \n",
       "\n",
       "       lexical_diversity  \n",
       "21212           0.882353  \n",
       "18920           0.875000  \n",
       "22763           0.787879  \n",
       "21980           0.787879  \n",
       "22314           0.777778  \n",
       "...                  ...  \n",
       "16758           0.168459  \n",
       "14874           0.168421  \n",
       "15499           0.163522  \n",
       "17217           0.163522  \n",
       "15798           0.163121  \n",
       "\n",
       "[23465 rows x 4 columns]"
      ]
     },
     "execution_count": 37,
     "metadata": {},
     "output_type": "execute_result"
    }
   ],
   "source": [
    "faketitle_lexicalDiversity = [lexical_dive(text) for text in fake_title]\n",
    "tokens = [len(text) for text in fake_title]\n",
    "types = [len(set(text)) for text in fake_title]\n",
    "title = [text for text in fake_title]\n",
    "\n",
    "ld = pd.DataFrame({'title': title, 'tokens': tokens, 'types': types,\n",
    "                   'lexical_diversity': faketitle_lexicalDiversity})\n",
    "\n",
    "ld.sort_values(by='lexical_diversity', ascending=False)"
   ]
  },
  {
   "cell_type": "markdown",
   "metadata": {},
   "source": [
    "The lexical diversity range narrowed in the 'fake' titles just like it did in the 'true' titles. What caught my attention was the difference between titles in each dataset. The 'true' titles have headlines that one would expect from media organizations. The 'fake' news headlines use all caps as well as phrases and words that invoke a strong reaction like 'BREAKING' or 'MUST WATCH VIDEO'. It also looks like the 'fake' news titles are used as promos for podcast episodes or videos instead of actual reporting.  "
   ]
  },
  {
   "cell_type": "code",
   "execution_count": null,
   "metadata": {},
   "outputs": [],
   "source": [
    "# another measure for lexical diversity\n",
    "import string\n",
    "def lexical_diversity(data, other_data, feature):\n",
    "    # ignore capital letters\n",
    "    column = data[feature].str.lower() \n",
    "    # create one text from the column\n",
    "    text = ' '.join(column)\n",
    "    # drop punctuation\n",
    "    exclude = set(string.punctuation)\n",
    "    words = ''.join(char for char in text if char not in exclude)\n",
    "    # create a list of wordsw instead of one huge text\n",
    "    words_splitted = words.split()\n",
    "    \n",
    "    # analogously\n",
    "    other_column = other_data[feature].str.lower() \n",
    "    other_text = ' '.join(other_column)\n",
    "    other_words = ''.join(char for char in other_text if char not in exclude)\n",
    "    other_words_splitted = other_words.split()\n",
    "    # lexical diversity measure\n",
    "    return len(set(words_splitted)) / (len(words_splitted) + len(other_words_splitted))\n",
    "\n",
    "print(f'Real News: {lexical_diversity(data=train_news, other_data=train_fake, feature=\"text\")}')\n",
    "print(f'Fake News: {lexical_diversity(data=train_fake, other_data=train_news, feature=\"text\")}')"
   ]
  },
  {
   "cell_type": "markdown",
   "metadata": {},
   "source": [
    "Fake news has about double the lexical diversity as real news. Authors of fake news appear to use a wider vocabulary in their news articles. Is this true for the titles? Clicks are important in the digital age, what keywords are used most frequently in news titles?"
   ]
  },
  {
   "cell_type": "markdown",
   "metadata": {},
   "source": [
    "## Summary<a id='_Summary_'></a>"
   ]
  },
  {
   "cell_type": "markdown",
   "metadata": {},
   "source": [
    "Determining whether information you consume is fake or not begins with the title of the article you'd like to read. Real news is more likely to inlcude anecdotal dialouge in their headlines, along with a more neutral, sterile selection of words and phrases. Fake news headlines do just about the exact opposite, purposefully using loaded language to get a reaction from the internet user. As far as actual text goes, fake news leaves a lot to be desired. After dropping quite a few rows in the 'fake' data that contained no text, I was still left textless articles when I ran the lexical diversity code for the 'fake' text. Instead of disseminating information via text, fake news likes to promote videos and podcasts."
   ]
  }
 ],
 "metadata": {
  "kernelspec": {
   "display_name": "Python 3",
   "language": "python",
   "name": "python3"
  },
  "language_info": {
   "codemirror_mode": {
    "name": "ipython",
    "version": 3
   },
   "file_extension": ".py",
   "mimetype": "text/x-python",
   "name": "python",
   "nbconvert_exporter": "python",
   "pygments_lexer": "ipython3",
   "version": "3.8.3"
  }
 },
 "nbformat": 4,
 "nbformat_minor": 4
}
